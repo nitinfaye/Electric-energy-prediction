{
  "nbformat": 4,
  "nbformat_minor": 0,
  "metadata": {
    "colab": {
      "name": "artificial_neural_network.ipynb",
      "provenance": [],
      "collapsed_sections": [],
      "include_colab_link": true
    },
    "kernelspec": {
      "name": "python3",
      "display_name": "Python 3"
    }
  },
  "cells": [
    {
      "cell_type": "markdown",
      "metadata": {
        "id": "view-in-github",
        "colab_type": "text"
      },
      "source": [
        "<a href=\"https://colab.research.google.com/github/nitinfaye/Electric-energy-prediction/blob/main/artificial_neural_network.ipynb\" target=\"_parent\"><img src=\"https://colab.research.google.com/assets/colab-badge.svg\" alt=\"Open In Colab\"/></a>"
      ]
    },
    {
      "cell_type": "markdown",
      "metadata": {
        "id": "3cbb7fRy-eyr"
      },
      "source": [
        "# Artificial Neural Network"
      ]
    },
    {
      "cell_type": "markdown",
      "metadata": {
        "id": "8sNDnxE2-pwE"
      },
      "source": [
        "### Importing the libraries"
      ]
    },
    {
      "cell_type": "code",
      "metadata": {
        "id": "lxChR1Rk-umf"
      },
      "source": [
        "import numpy as np\n",
        "import pandas as pd\n",
        "import tensorflow as tf"
      ],
      "execution_count": 1,
      "outputs": []
    },
    {
      "cell_type": "code",
      "metadata": {
        "id": "uBTqR3nacj0e",
        "colab": {
          "base_uri": "https://localhost:8080/",
          "height": 36
        },
        "outputId": "594a45eb-fa02-4d05-b882-6c5140233ea3"
      },
      "source": [
        "tf.__version__"
      ],
      "execution_count": 2,
      "outputs": [
        {
          "output_type": "execute_result",
          "data": {
            "application/vnd.google.colaboratory.intrinsic+json": {
              "type": "string"
            },
            "text/plain": [
              "'2.4.1'"
            ]
          },
          "metadata": {
            "tags": []
          },
          "execution_count": 2
        }
      ]
    },
    {
      "cell_type": "markdown",
      "metadata": {
        "id": "AG3FQEch-yuA"
      },
      "source": [
        "## Part 1 - Data Preprocessing"
      ]
    },
    {
      "cell_type": "markdown",
      "metadata": {
        "id": "-4zq8Mza_D9O"
      },
      "source": [
        "### Importing the dataset"
      ]
    },
    {
      "cell_type": "code",
      "metadata": {
        "id": "B9CV13Co_HHM"
      },
      "source": [
        "dataset = pd.read_excel('Folds5x2_pp.xlsx')\n",
        "X = dataset.iloc[:, :-1].values\n",
        "y = dataset.iloc[:, -1].values"
      ],
      "execution_count": 3,
      "outputs": []
    },
    {
      "cell_type": "code",
      "metadata": {
        "colab": {
          "base_uri": "https://localhost:8080/",
          "height": 194
        },
        "id": "Zhy3BpOKY8f0",
        "outputId": "b7cc7cb6-4e9e-4b90-f49c-7714d9ae437b"
      },
      "source": [
        "dataset.head()"
      ],
      "execution_count": 13,
      "outputs": [
        {
          "output_type": "execute_result",
          "data": {
            "text/html": [
              "<div>\n",
              "<style scoped>\n",
              "    .dataframe tbody tr th:only-of-type {\n",
              "        vertical-align: middle;\n",
              "    }\n",
              "\n",
              "    .dataframe tbody tr th {\n",
              "        vertical-align: top;\n",
              "    }\n",
              "\n",
              "    .dataframe thead th {\n",
              "        text-align: right;\n",
              "    }\n",
              "</style>\n",
              "<table border=\"1\" class=\"dataframe\">\n",
              "  <thead>\n",
              "    <tr style=\"text-align: right;\">\n",
              "      <th></th>\n",
              "      <th>AT</th>\n",
              "      <th>V</th>\n",
              "      <th>AP</th>\n",
              "      <th>RH</th>\n",
              "      <th>PE</th>\n",
              "    </tr>\n",
              "  </thead>\n",
              "  <tbody>\n",
              "    <tr>\n",
              "      <th>0</th>\n",
              "      <td>14.96</td>\n",
              "      <td>41.76</td>\n",
              "      <td>1024.07</td>\n",
              "      <td>73.17</td>\n",
              "      <td>463.26</td>\n",
              "    </tr>\n",
              "    <tr>\n",
              "      <th>1</th>\n",
              "      <td>25.18</td>\n",
              "      <td>62.96</td>\n",
              "      <td>1020.04</td>\n",
              "      <td>59.08</td>\n",
              "      <td>444.37</td>\n",
              "    </tr>\n",
              "    <tr>\n",
              "      <th>2</th>\n",
              "      <td>5.11</td>\n",
              "      <td>39.40</td>\n",
              "      <td>1012.16</td>\n",
              "      <td>92.14</td>\n",
              "      <td>488.56</td>\n",
              "    </tr>\n",
              "    <tr>\n",
              "      <th>3</th>\n",
              "      <td>20.86</td>\n",
              "      <td>57.32</td>\n",
              "      <td>1010.24</td>\n",
              "      <td>76.64</td>\n",
              "      <td>446.48</td>\n",
              "    </tr>\n",
              "    <tr>\n",
              "      <th>4</th>\n",
              "      <td>10.82</td>\n",
              "      <td>37.50</td>\n",
              "      <td>1009.23</td>\n",
              "      <td>96.62</td>\n",
              "      <td>473.90</td>\n",
              "    </tr>\n",
              "  </tbody>\n",
              "</table>\n",
              "</div>"
            ],
            "text/plain": [
              "      AT      V       AP     RH      PE\n",
              "0  14.96  41.76  1024.07  73.17  463.26\n",
              "1  25.18  62.96  1020.04  59.08  444.37\n",
              "2   5.11  39.40  1012.16  92.14  488.56\n",
              "3  20.86  57.32  1010.24  76.64  446.48\n",
              "4  10.82  37.50  1009.23  96.62  473.90"
            ]
          },
          "metadata": {
            "tags": []
          },
          "execution_count": 13
        }
      ]
    },
    {
      "cell_type": "code",
      "metadata": {
        "colab": {
          "base_uri": "https://localhost:8080/"
        },
        "id": "UUybRSXhY1Uu",
        "outputId": "7869d2e3-584c-4b97-d393-7a82a9bd517e"
      },
      "source": [
        "print(X)"
      ],
      "execution_count": 12,
      "outputs": [
        {
          "output_type": "stream",
          "text": [
            "[[  14.96   41.76 1024.07   73.17]\n",
            " [  25.18   62.96 1020.04   59.08]\n",
            " [   5.11   39.4  1012.16   92.14]\n",
            " ...\n",
            " [  31.32   74.33 1012.92   36.48]\n",
            " [  24.48   69.45 1013.86   62.39]\n",
            " [  21.6    62.52 1017.23   67.87]]\n"
          ],
          "name": "stdout"
        }
      ]
    },
    {
      "cell_type": "code",
      "metadata": {
        "colab": {
          "base_uri": "https://localhost:8080/"
        },
        "id": "gjqlfzGFZHgI",
        "outputId": "d395e997-58f4-48a0-c411-268c4781d707"
      },
      "source": [
        "print(y)"
      ],
      "execution_count": 14,
      "outputs": [
        {
          "output_type": "stream",
          "text": [
            "[463.26 444.37 488.56 ... 429.57 435.74 453.28]\n"
          ],
          "name": "stdout"
        }
      ]
    },
    {
      "cell_type": "markdown",
      "metadata": {
        "id": "VC6omXel_Up0"
      },
      "source": [
        "### Splitting the dataset into the Training set and Test set"
      ]
    },
    {
      "cell_type": "code",
      "metadata": {
        "id": "L5edeb2r_agx"
      },
      "source": [
        "from sklearn.model_selection import train_test_split\n",
        "X_train, X_test, y_train, y_test = train_test_split(X, y, test_size = 0.2, random_state = 0)"
      ],
      "execution_count": 4,
      "outputs": []
    },
    {
      "cell_type": "markdown",
      "metadata": {
        "id": "CsBULd_f_wLY"
      },
      "source": [
        "### Initializing the ANN"
      ]
    },
    {
      "cell_type": "code",
      "metadata": {
        "id": "J6Hd97Ls__Nz"
      },
      "source": [
        "ann = tf.keras.models.Sequential()"
      ],
      "execution_count": 15,
      "outputs": []
    },
    {
      "cell_type": "markdown",
      "metadata": {
        "id": "iitAFJS_ABUn"
      },
      "source": [
        "### Adding the input layer and the first hidden layer"
      ]
    },
    {
      "cell_type": "code",
      "metadata": {
        "id": "ksO_Vv40AHix"
      },
      "source": [
        "ann.add(tf.keras.layers.Dense(units=6, activation='relu'))"
      ],
      "execution_count": 16,
      "outputs": []
    },
    {
      "cell_type": "markdown",
      "metadata": {
        "id": "-lb4kK_wAKbs"
      },
      "source": [
        "### Adding the second hidden layer"
      ]
    },
    {
      "cell_type": "code",
      "metadata": {
        "id": "c2357OqEAQOQ"
      },
      "source": [
        "ann.add(tf.keras.layers.Dense(units=6, activation='relu'))"
      ],
      "execution_count": 17,
      "outputs": []
    },
    {
      "cell_type": "markdown",
      "metadata": {
        "id": "jwMOmKb3AdBY"
      },
      "source": [
        "### Adding the output layer"
      ]
    },
    {
      "cell_type": "code",
      "metadata": {
        "id": "YFATpzsUAkLL"
      },
      "source": [
        "ann.add(tf.keras.layers.Dense(units=1))"
      ],
      "execution_count": 18,
      "outputs": []
    },
    {
      "cell_type": "markdown",
      "metadata": {
        "id": "qDeylAs2An25"
      },
      "source": [
        "### Compiling the ANN"
      ]
    },
    {
      "cell_type": "code",
      "metadata": {
        "id": "pesgbWlCAtB4"
      },
      "source": [
        "ann.compile(optimizer = 'adam', loss = 'mean_squared_error')"
      ],
      "execution_count": 9,
      "outputs": []
    },
    {
      "cell_type": "markdown",
      "metadata": {
        "id": "YjVuiybYOo7r"
      },
      "source": [
        "### Training the ANN model on the Training set"
      ]
    },
    {
      "cell_type": "code",
      "metadata": {
        "id": "c_vV-tiiA5zn",
        "colab": {
          "base_uri": "https://localhost:8080/"
        },
        "outputId": "bb990e27-aef4-4289-ebd8-55916cea3951"
      },
      "source": [
        "ann.fit(X_train, y_train, batch_size = 32, epochs = 100)"
      ],
      "execution_count": 10,
      "outputs": [
        {
          "output_type": "stream",
          "text": [
            "Epoch 1/100\n",
            "240/240 [==============================] - 1s 970us/step - loss: 27762.4067\n",
            "Epoch 2/100\n",
            "240/240 [==============================] - 0s 977us/step - loss: 321.2744\n",
            "Epoch 3/100\n",
            "240/240 [==============================] - 0s 974us/step - loss: 297.6972\n",
            "Epoch 4/100\n",
            "240/240 [==============================] - 0s 1ms/step - loss: 277.8018\n",
            "Epoch 5/100\n",
            "240/240 [==============================] - 0s 956us/step - loss: 240.8809\n",
            "Epoch 6/100\n",
            "240/240 [==============================] - 0s 1ms/step - loss: 215.7505\n",
            "Epoch 7/100\n",
            "240/240 [==============================] - 0s 1ms/step - loss: 184.2908\n",
            "Epoch 8/100\n",
            "240/240 [==============================] - 0s 1ms/step - loss: 163.2543\n",
            "Epoch 9/100\n",
            "240/240 [==============================] - 0s 1ms/step - loss: 136.1718\n",
            "Epoch 10/100\n",
            "240/240 [==============================] - 0s 985us/step - loss: 123.7805\n",
            "Epoch 11/100\n",
            "240/240 [==============================] - 0s 923us/step - loss: 100.4352\n",
            "Epoch 12/100\n",
            "240/240 [==============================] - 0s 1ms/step - loss: 92.0364\n",
            "Epoch 13/100\n",
            "240/240 [==============================] - 0s 955us/step - loss: 80.6563\n",
            "Epoch 14/100\n",
            "240/240 [==============================] - 0s 927us/step - loss: 72.6500\n",
            "Epoch 15/100\n",
            "240/240 [==============================] - 0s 963us/step - loss: 65.4099\n",
            "Epoch 16/100\n",
            "240/240 [==============================] - 0s 960us/step - loss: 57.3537\n",
            "Epoch 17/100\n",
            "240/240 [==============================] - 0s 1ms/step - loss: 53.6821\n",
            "Epoch 18/100\n",
            "240/240 [==============================] - 0s 983us/step - loss: 48.6830\n",
            "Epoch 19/100\n",
            "240/240 [==============================] - 0s 928us/step - loss: 43.2677\n",
            "Epoch 20/100\n",
            "240/240 [==============================] - 0s 957us/step - loss: 42.4197\n",
            "Epoch 21/100\n",
            "240/240 [==============================] - 0s 965us/step - loss: 39.4528\n",
            "Epoch 22/100\n",
            "240/240 [==============================] - 0s 965us/step - loss: 38.4031\n",
            "Epoch 23/100\n",
            "240/240 [==============================] - 0s 962us/step - loss: 35.5235\n",
            "Epoch 24/100\n",
            "240/240 [==============================] - 0s 1ms/step - loss: 35.8332\n",
            "Epoch 25/100\n",
            "240/240 [==============================] - 0s 1ms/step - loss: 34.2351\n",
            "Epoch 26/100\n",
            "240/240 [==============================] - 0s 988us/step - loss: 31.9676\n",
            "Epoch 27/100\n",
            "240/240 [==============================] - 0s 991us/step - loss: 30.7801\n",
            "Epoch 28/100\n",
            "240/240 [==============================] - 0s 971us/step - loss: 29.8825\n",
            "Epoch 29/100\n",
            "240/240 [==============================] - 0s 992us/step - loss: 28.1965\n",
            "Epoch 30/100\n",
            "240/240 [==============================] - 0s 965us/step - loss: 28.8013\n",
            "Epoch 31/100\n",
            "240/240 [==============================] - 0s 939us/step - loss: 29.2171\n",
            "Epoch 32/100\n",
            "240/240 [==============================] - 0s 996us/step - loss: 28.0112\n",
            "Epoch 33/100\n",
            "240/240 [==============================] - 0s 947us/step - loss: 27.2977\n",
            "Epoch 34/100\n",
            "240/240 [==============================] - 0s 1ms/step - loss: 29.4249\n",
            "Epoch 35/100\n",
            "240/240 [==============================] - 0s 955us/step - loss: 27.8319\n",
            "Epoch 36/100\n",
            "240/240 [==============================] - 0s 979us/step - loss: 28.0286\n",
            "Epoch 37/100\n",
            "240/240 [==============================] - 0s 934us/step - loss: 28.4041\n",
            "Epoch 38/100\n",
            "240/240 [==============================] - 0s 964us/step - loss: 27.3375\n",
            "Epoch 39/100\n",
            "240/240 [==============================] - 0s 965us/step - loss: 27.2362\n",
            "Epoch 40/100\n",
            "240/240 [==============================] - 0s 968us/step - loss: 26.2465\n",
            "Epoch 41/100\n",
            "240/240 [==============================] - 0s 987us/step - loss: 27.7132\n",
            "Epoch 42/100\n",
            "240/240 [==============================] - 0s 1ms/step - loss: 26.6826\n",
            "Epoch 43/100\n",
            "240/240 [==============================] - 0s 1ms/step - loss: 26.6472\n",
            "Epoch 44/100\n",
            "240/240 [==============================] - 0s 996us/step - loss: 27.7032\n",
            "Epoch 45/100\n",
            "240/240 [==============================] - 0s 1ms/step - loss: 28.9423\n",
            "Epoch 46/100\n",
            "240/240 [==============================] - 0s 989us/step - loss: 27.2708\n",
            "Epoch 47/100\n",
            "240/240 [==============================] - 0s 990us/step - loss: 28.0911\n",
            "Epoch 48/100\n",
            "240/240 [==============================] - 0s 993us/step - loss: 27.5039\n",
            "Epoch 49/100\n",
            "240/240 [==============================] - 0s 963us/step - loss: 26.0915\n",
            "Epoch 50/100\n",
            "240/240 [==============================] - 0s 1ms/step - loss: 26.4525\n",
            "Epoch 51/100\n",
            "240/240 [==============================] - 0s 945us/step - loss: 27.6082\n",
            "Epoch 52/100\n",
            "240/240 [==============================] - 0s 971us/step - loss: 27.5347\n",
            "Epoch 53/100\n",
            "240/240 [==============================] - 0s 1ms/step - loss: 27.5200\n",
            "Epoch 54/100\n",
            "240/240 [==============================] - 0s 1ms/step - loss: 27.8038\n",
            "Epoch 55/100\n",
            "240/240 [==============================] - 0s 962us/step - loss: 26.9865\n",
            "Epoch 56/100\n",
            "240/240 [==============================] - 0s 970us/step - loss: 27.6097\n",
            "Epoch 57/100\n",
            "240/240 [==============================] - 0s 1ms/step - loss: 26.0643\n",
            "Epoch 58/100\n",
            "240/240 [==============================] - 0s 991us/step - loss: 30.4308\n",
            "Epoch 59/100\n",
            "240/240 [==============================] - 0s 1ms/step - loss: 27.8460\n",
            "Epoch 60/100\n",
            "240/240 [==============================] - 0s 1ms/step - loss: 27.2817\n",
            "Epoch 61/100\n",
            "240/240 [==============================] - 0s 1ms/step - loss: 26.2176\n",
            "Epoch 62/100\n",
            "240/240 [==============================] - 0s 1ms/step - loss: 28.6493\n",
            "Epoch 63/100\n",
            "240/240 [==============================] - 0s 959us/step - loss: 27.2469\n",
            "Epoch 64/100\n",
            "240/240 [==============================] - 0s 962us/step - loss: 26.4999\n",
            "Epoch 65/100\n",
            "240/240 [==============================] - 0s 994us/step - loss: 26.3628\n",
            "Epoch 66/100\n",
            "240/240 [==============================] - 0s 955us/step - loss: 27.9533\n",
            "Epoch 67/100\n",
            "240/240 [==============================] - 0s 1ms/step - loss: 26.0665\n",
            "Epoch 68/100\n",
            "240/240 [==============================] - 0s 968us/step - loss: 27.9136\n",
            "Epoch 69/100\n",
            "240/240 [==============================] - 0s 1ms/step - loss: 27.5952\n",
            "Epoch 70/100\n",
            "240/240 [==============================] - 0s 973us/step - loss: 27.4229\n",
            "Epoch 71/100\n",
            "240/240 [==============================] - 0s 1ms/step - loss: 27.8250\n",
            "Epoch 72/100\n",
            "240/240 [==============================] - 0s 1ms/step - loss: 27.7489\n",
            "Epoch 73/100\n",
            "240/240 [==============================] - 0s 1ms/step - loss: 27.0602\n",
            "Epoch 74/100\n",
            "240/240 [==============================] - 0s 1ms/step - loss: 26.5920\n",
            "Epoch 75/100\n",
            "240/240 [==============================] - 0s 999us/step - loss: 27.5482\n",
            "Epoch 76/100\n",
            "240/240 [==============================] - 0s 1ms/step - loss: 27.0416\n",
            "Epoch 77/100\n",
            "240/240 [==============================] - 0s 981us/step - loss: 27.1742\n",
            "Epoch 78/100\n",
            "240/240 [==============================] - 0s 1ms/step - loss: 26.2165\n",
            "Epoch 79/100\n",
            "240/240 [==============================] - 0s 1ms/step - loss: 25.9684\n",
            "Epoch 80/100\n",
            "240/240 [==============================] - 0s 1ms/step - loss: 28.2688\n",
            "Epoch 81/100\n",
            "240/240 [==============================] - 0s 991us/step - loss: 27.5140\n",
            "Epoch 82/100\n",
            "240/240 [==============================] - 0s 1ms/step - loss: 28.0500\n",
            "Epoch 83/100\n",
            "240/240 [==============================] - 0s 1ms/step - loss: 26.8141\n",
            "Epoch 84/100\n",
            "240/240 [==============================] - 0s 1ms/step - loss: 26.2830\n",
            "Epoch 85/100\n",
            "240/240 [==============================] - 0s 1ms/step - loss: 28.6190\n",
            "Epoch 86/100\n",
            "240/240 [==============================] - 0s 973us/step - loss: 27.2778\n",
            "Epoch 87/100\n",
            "240/240 [==============================] - 0s 999us/step - loss: 27.4298\n",
            "Epoch 88/100\n",
            "240/240 [==============================] - 0s 1ms/step - loss: 28.0257\n",
            "Epoch 89/100\n",
            "240/240 [==============================] - 0s 1ms/step - loss: 26.2289\n",
            "Epoch 90/100\n",
            "240/240 [==============================] - 0s 983us/step - loss: 25.7953\n",
            "Epoch 91/100\n",
            "240/240 [==============================] - 0s 1ms/step - loss: 26.0146\n",
            "Epoch 92/100\n",
            "240/240 [==============================] - 0s 1ms/step - loss: 26.5303\n",
            "Epoch 93/100\n",
            "240/240 [==============================] - 0s 1ms/step - loss: 27.8502\n",
            "Epoch 94/100\n",
            "240/240 [==============================] - 0s 1ms/step - loss: 25.7737\n",
            "Epoch 95/100\n",
            "240/240 [==============================] - 0s 1ms/step - loss: 28.9669\n",
            "Epoch 96/100\n",
            "240/240 [==============================] - 0s 1ms/step - loss: 25.5922\n",
            "Epoch 97/100\n",
            "240/240 [==============================] - 0s 1ms/step - loss: 26.3267\n",
            "Epoch 98/100\n",
            "240/240 [==============================] - 0s 972us/step - loss: 26.6988\n",
            "Epoch 99/100\n",
            "240/240 [==============================] - 0s 987us/step - loss: 27.4213\n",
            "Epoch 100/100\n",
            "240/240 [==============================] - 0s 995us/step - loss: 25.9262\n"
          ],
          "name": "stdout"
        },
        {
          "output_type": "execute_result",
          "data": {
            "text/plain": [
              "<tensorflow.python.keras.callbacks.History at 0x7f894fe49050>"
            ]
          },
          "metadata": {
            "tags": []
          },
          "execution_count": 10
        }
      ]
    },
    {
      "cell_type": "markdown",
      "metadata": {
        "id": "0H0zKKNEBLD5"
      },
      "source": [
        "### Predicting the results of the Test set"
      ]
    },
    {
      "cell_type": "code",
      "metadata": {
        "id": "IA0yApEmBG1X",
        "colab": {
          "base_uri": "https://localhost:8080/"
        },
        "outputId": "40d8dc3f-0be8-4217-e1d1-6c4c89f457d9"
      },
      "source": [
        "y_pred = ann.predict(X_test)\n",
        "np.set_printoptions(precision=2)\n",
        "print(np.concatenate((y_pred.reshape(len(y_pred),1), y_test.reshape(len(y_test),1)),1))"
      ],
      "execution_count": 11,
      "outputs": [
        {
          "output_type": "stream",
          "text": [
            "[[431.12 431.23]\n",
            " [462.08 460.01]\n",
            " [465.54 461.14]\n",
            " ...\n",
            " [472.84 473.26]\n",
            " [439.54 438.  ]\n",
            " [458.78 463.28]]\n"
          ],
          "name": "stdout"
        }
      ]
    }
  ]
}